{
 "cells": [
  {
   "cell_type": "code",
   "id": "initial_id",
   "metadata": {
    "collapsed": true,
    "jupyter": {
     "outputs_hidden": true
    }
   },
   "source": [
    "import numpy as np\n",
    "import matplotlib.pyplot as plt"
   ],
   "outputs": [],
   "execution_count": null
  },
  {
   "cell_type": "code",
   "id": "6ed2bcc31ac5cf52",
   "metadata": {},
   "source": [
    "data_x = np.array([0, 1, 2, 3, 4])\n",
    "data_y = np.array([1, 4, 7, 10, 13])"
   ],
   "outputs": [],
   "execution_count": null
  },
  {
   "cell_type": "code",
   "id": "3f0d81cd9155b728",
   "metadata": {},
   "source": [
    "def forward(x, w, b):\n",
    "    return x * w + b\n",
    "def loss(y_pred, y):\n",
    "    return (y_pred - y) ** 2"
   ],
   "outputs": [],
   "execution_count": null
  },
  {
   "metadata": {},
   "cell_type": "code",
   "source": [
    "min_mse = float('inf')\n",
    "best_w = None\n",
    "best_b = None"
   ],
   "id": "9e52ac46cfcbac6c",
   "outputs": [],
   "execution_count": null
  },
  {
   "cell_type": "code",
   "id": "5924298100012a54",
   "metadata": {},
   "source": [
    "# 穷举\n",
    "w_range = np.arange(0.0, 4.1, 0.1)\n",
    "b_range = np.arange(0.0, 2.1, 0.1)"
   ],
   "outputs": [],
   "execution_count": null
  },
  {
   "metadata": {},
   "cell_type": "code",
   "source": [
    "w_list = []\n",
    "b_list = []\n",
    "mse_list = []"
   ],
   "id": "f943172a65b3199f",
   "outputs": [],
   "execution_count": null
  },
  {
   "metadata": {},
   "cell_type": "markdown",
   "source": [
    "np.mean 是 NumPy 库中的一个函数，用于计算输入数组或数据的均值。\n",
    "\n",
    "它会将数组中的所有元素加总起来，然后除以元素的个数，从而得到平均值。"
   ],
   "id": "149198d9582376ee"
  },
  {
   "cell_type": "code",
   "id": "de742000e76dfdc6",
   "metadata": {},
   "source": [
    "for w in w_range:\n",
    "    for b in b_range:\n",
    "        y_pred = forward(data_x, w, b)\n",
    "        print(loss(y_pred, data_y))\n",
    "        mse = np.mean(loss(y_pred, data_y))  #计算mse\n",
    "        if mse < min_mse:\n",
    "            min_mse = mse\n",
    "            best_w = w\n",
    "            best_b = b\n",
    "        w_list.append(w)\n",
    "        b_list.append(b)\n",
    "        mse_list.append(mse)"
   ],
   "outputs": [],
   "execution_count": null
  },
  {
   "cell_type": "code",
   "id": "e01a599beda67cec",
   "metadata": {},
   "source": [
    "print(f\"最小均方误差 (MSE): {min_mse}\")\n",
    "print(f\"对应的权重 w: {best_w}\")\n",
    "print(f\"对应的偏置 b: {best_b}\")"
   ],
   "outputs": [],
   "execution_count": null
  },
  {
   "cell_type": "code",
   "id": "31676037308523b9",
   "metadata": {},
   "source": [
    "fig = plt.figure()\n",
    "ax = fig.add_subplot(projection='3d')\n",
    "ax.scatter(w_list, b_list, mse_list, c='r', marker='o')\n",
    "ax.set_xlabel('w')\n",
    "ax.set_ylabel('b')\n",
    "ax.set_zlabel('MSE')\n",
    "plt.show()"
   ],
   "outputs": [],
   "execution_count": null
  },
  {
   "cell_type": "code",
   "id": "48c8cdabd13ebbc9",
   "metadata": {},
   "source": [
    "W, B = np.meshgrid(w_range, b_range)\n",
    "MSE = np.zeros_like(W) #创建一个和 W 一样但是元素都是 0 的数组\n",
    "\n",
    "# 计算每个网格点的MSE\n",
    "for i, w in enumerate(w_range):\n",
    "    for j, b in enumerate(b_range):\n",
    "        y_pred = forward(data_x, w, b)\n",
    "        MSE[j, i] = np.mean(loss(y_pred, data_y))\n",
    "\n",
    "# 绘制曲面图\n",
    "fig2 = plt.figure()\n",
    "ax1 = fig2.add_subplot(projection='3d')\n",
    "surf = ax1.plot_surface(W, B, MSE, cmap='viridis')\n",
    "fig2.colorbar(surf, shrink=0.5, aspect=5)\n",
    "ax1.set_xlabel('w')\n",
    "ax1.set_ylabel('b')\n",
    "ax1.set_zlabel('MSE')\n",
    "plt.show()"
   ],
   "outputs": [],
   "execution_count": null
  },
  {
   "cell_type": "code",
   "id": "2f346da05906f47e",
   "metadata": {},
   "source": [],
   "outputs": [],
   "execution_count": null
  }
 ],
 "metadata": {
  "kernelspec": {
   "display_name": "Python 3 (ipykernel)",
   "language": "python",
   "name": "python3"
  },
  "language_info": {
   "codemirror_mode": {
    "name": "ipython",
    "version": 3
   },
   "file_extension": ".py",
   "mimetype": "text/x-python",
   "name": "python",
   "nbconvert_exporter": "python",
   "pygments_lexer": "ipython3",
   "version": "3.9.21"
  }
 },
 "nbformat": 4,
 "nbformat_minor": 5
}
