{
 "cells": [
  {
   "metadata": {},
   "cell_type": "markdown",
   "source": "# 简单线性回归模型",
   "id": "21634f7fd8579cff"
  },
  {
   "metadata": {},
   "cell_type": "code",
   "source": "import numpy as np",
   "id": "d616968b4e0c8dfb",
   "outputs": [],
   "execution_count": null
  },
  {
   "metadata": {},
   "cell_type": "code",
   "source": "import matplotlib.pyplot as plt",
   "id": "b0c60085ce5fa698",
   "outputs": [],
   "execution_count": null
  },
  {
   "metadata": {
    "ExecuteTime": {
     "end_time": "2025-02-07T08:17:32.789620Z",
     "start_time": "2025-02-07T08:17:32.775552Z"
    }
   },
   "cell_type": "code",
   "source": [
    "x_data = [1.0,2.0,3.0]\n",
    "y_data = [2.0,4.0,6.0]"
   ],
   "id": "c09b269d54ba78db",
   "outputs": [],
   "execution_count": 1
  },
  {
   "metadata": {},
   "cell_type": "code",
   "source": [
    "def forward(x):\n",
    "    return x * w\n",
    "def loss(x,y):\n",
    "    y_pred = forward(x)\n",
    "    return (y_pred - y)**2"
   ],
   "id": "321a2342d975e9b3",
   "outputs": [],
   "execution_count": null
  },
  {
   "metadata": {},
   "cell_type": "code",
   "source": [
    "w_list = []\n",
    "mse_list = []"
   ],
   "id": "87c046c063d449a5",
   "outputs": [],
   "execution_count": null
  },
  {
   "metadata": {},
   "cell_type": "code",
   "source": [
    "min_mse = float('inf')  # 初始化为正无穷大\n",
    "best_w = None  "
   ],
   "id": "74f6112103377436",
   "outputs": [],
   "execution_count": null
  },
  {
   "metadata": {},
   "cell_type": "code",
   "source": [
    "for w in np.arange(0.0,4.1, 0.1):\n",
    "    print('w=',w)\n",
    "    l_sum = 0\n",
    "    for x_val, y_val in zip(x_data, y_data):\n",
    "        y_pred = forward(x_val)\n",
    "        loss_val = loss(x_val,y_val)\n",
    "        l_sum += loss_val\n",
    "        print('x_val=',x_val,'y_pred=',y_pred,'loss_val=',loss_val)\n",
    "        \n",
    "    mse = l_sum / len(x_data)\n",
    "    if mse < min_mse:\n",
    "        min_mse = mse\n",
    "        best_w = w\n",
    "    print('MSE=',l_sum/len(x_data))\n",
    "    w_list.append(w)\n",
    "    mse_list.append(l_sum/len(x_data))"
   ],
   "id": "b94489fcb50c2b74",
   "outputs": [],
   "execution_count": null
  },
  {
   "metadata": {},
   "cell_type": "code",
   "source": [
    "print(f\"最小均方误差 (MSE): {min_mse}\")\n",
    "print(f\"对应的权重 w: {best_w}\")"
   ],
   "id": "c882c7c83151c664",
   "outputs": [],
   "execution_count": null
  },
  {
   "metadata": {},
   "cell_type": "code",
   "source": [
    "plt.plot(w_list,mse_list,'r')\n",
    "plt.ylabel('LOSS')\n",
    "plt.xlabel('w')\n",
    "plt.show()"
   ],
   "id": "907f1c869d31dd2",
   "outputs": [],
   "execution_count": null
  },
  {
   "metadata": {},
   "cell_type": "code",
   "source": "",
   "id": "16db00aa8ac86c35",
   "outputs": [],
   "execution_count": null
  }
 ],
 "metadata": {
  "kernelspec": {
   "display_name": "Python 3",
   "language": "python",
   "name": "python3"
  },
  "language_info": {
   "codemirror_mode": {
    "name": "ipython",
    "version": 2
   },
   "file_extension": ".py",
   "mimetype": "text/x-python",
   "name": "python",
   "nbconvert_exporter": "python",
   "pygments_lexer": "ipython2",
   "version": "2.7.6"
  }
 },
 "nbformat": 4,
 "nbformat_minor": 5
}
